{
 "cells": [
  {
   "cell_type": "code",
   "execution_count": null,
   "id": "6a9385e1-db58-4657-95b8-7b93705bdace",
   "metadata": {},
   "outputs": [],
   "source": [
    "from transformers import AutoConfig\n",
    "\n",
    "model_name = \"openai-community/gpt2\"\n",
    "# model_name = \"microsoft/phi2\"\n",
    "# model_name = \"mistralai/Mistral-7B-v0.1\"\n",
    "\n",
    "config = AutoConfig.from_pretrained(model_name)\n",
    "config"
   ]
  },
  {
   "cell_type": "code",
   "execution_count": null,
   "id": "c491b2b4-dad8-44f7-a832-42c8e7e44f61",
   "metadata": {},
   "outputs": [],
   "source": [
    "from transformers import AutoModelForCausalLM, AutoTokenizer\n",
    "\n",
    "device = \"cpu\"\n",
    "four_bit = False\n",
    "\n",
    "model = AutoModelForCausalLM.from_pretrained(\n",
    "    model_name, device_map=device, load_in_4bit=four_bit\n",
    ")\n",
    "tokenizer = AutoTokenizer.from_pretrained(model_name)\n",
    "\n",
    "if device == \"cuda\":\n",
    "    inputs = tokenizer([\"A list of colors: red, blue\"], return_tensors=\"pt\").to(\"cuda\")\n",
    "else:\n",
    "    inputs = tokenizer([\"A list of colors: red, blue\"], return_tensors=\"pt\")\n",
    "outputs = model.generate(**inputs)\n",
    "text = tokenizer.batch_decode(outputs)[0]\n",
    "\n",
    "print(text)"
   ]
  },
  {
   "cell_type": "code",
   "execution_count": null,
   "id": "e1589317-fa43-4d44-89e6-ff1162564f7c",
   "metadata": {},
   "outputs": [],
   "source": []
  }
 ],
 "metadata": {
  "kernelspec": {
   "display_name": "Python 3.11 - Deep Learning",
   "language": "python",
   "name": "deep_learning_env"
  },
  "language_info": {
   "codemirror_mode": {
    "name": "ipython",
    "version": 3
   },
   "file_extension": ".py",
   "mimetype": "text/x-python",
   "name": "python",
   "nbconvert_exporter": "python",
   "pygments_lexer": "ipython3",
   "version": "3.11.7"
  }
 },
 "nbformat": 4,
 "nbformat_minor": 5
}
